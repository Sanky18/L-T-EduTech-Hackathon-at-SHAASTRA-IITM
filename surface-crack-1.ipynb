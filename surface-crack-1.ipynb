{
 "cells": [
  {
   "cell_type": "code",
   "execution_count": 1,
   "id": "8d9f39b1",
   "metadata": {
    "execution": {
     "iopub.execute_input": "2023-01-09T16:22:02.795224Z",
     "iopub.status.busy": "2023-01-09T16:22:02.794072Z",
     "iopub.status.idle": "2023-01-09T16:22:10.342877Z",
     "shell.execute_reply": "2023-01-09T16:22:10.341760Z"
    },
    "papermill": {
     "duration": 7.564348,
     "end_time": "2023-01-09T16:22:10.345747",
     "exception": false,
     "start_time": "2023-01-09T16:22:02.781399",
     "status": "completed"
    },
    "tags": []
   },
   "outputs": [],
   "source": [
    "import tensorflow as tf\n",
    "from tensorflow.keras.layers import Input, Dense, Dropout, Conv2D, MaxPooling2D, Flatten, Dropout, BatchNormalization\n",
    "from tensorflow.keras.models import Model\n",
    "from tensorflow.keras.optimizers import Adam\n",
    "from tensorflow.keras.preprocessing.image import ImageDataGenerator\n",
    "from tensorflow.keras.callbacks import ModelCheckpoint\n",
    "\n",
    "import numpy as np\n",
    "import SimpleITK as sitk\n",
    "import cv2 as cv\n",
    "import matplotlib.pyplot as plt\n",
    "import os\n",
    "\n",
    "from sklearn.model_selection import train_test_split\n",
    "from mlxtend.plotting import plot_confusion_matrix\n",
    "from sklearn.metrics import confusion_matrix"
   ]
  },
  {
   "cell_type": "markdown",
   "id": "a8a0577b",
   "metadata": {
    "papermill": {
     "duration": 0.008424,
     "end_time": "2023-01-09T16:22:10.363411",
     "exception": false,
     "start_time": "2023-01-09T16:22:10.354987",
     "status": "completed"
    },
    "tags": []
   },
   "source": [
    "## Preprocessing the images"
   ]
  },
  {
   "cell_type": "code",
   "execution_count": 2,
   "id": "fec67fb0",
   "metadata": {
    "execution": {
     "iopub.execute_input": "2023-01-09T16:22:10.382769Z",
     "iopub.status.busy": "2023-01-09T16:22:10.382084Z",
     "iopub.status.idle": "2023-01-09T16:22:10.387396Z",
     "shell.execute_reply": "2023-01-09T16:22:10.386303Z"
    },
    "papermill": {
     "duration": 0.017546,
     "end_time": "2023-01-09T16:22:10.389656",
     "exception": false,
     "start_time": "2023-01-09T16:22:10.372110",
     "status": "completed"
    },
    "tags": []
   },
   "outputs": [],
   "source": [
    "image_size = 224       #resize all images to 224*224\n",
    "\n",
    "labels = ['Positive', 'Negative']          #labels from the folders"
   ]
  },
  {
   "cell_type": "code",
   "execution_count": 3,
   "id": "4e96df70",
   "metadata": {
    "execution": {
     "iopub.execute_input": "2023-01-09T16:22:10.408771Z",
     "iopub.status.busy": "2023-01-09T16:22:10.408344Z",
     "iopub.status.idle": "2023-01-09T16:22:10.416208Z",
     "shell.execute_reply": "2023-01-09T16:22:10.414872Z"
    },
    "papermill": {
     "duration": 0.020024,
     "end_time": "2023-01-09T16:22:10.418425",
     "exception": false,
     "start_time": "2023-01-09T16:22:10.398401",
     "status": "completed"
    },
    "tags": []
   },
   "outputs": [],
   "source": [
    "def create_training_data(data_dir):              #creating the training data\n",
    "    \n",
    "    images = []\n",
    "    \n",
    "    for label in labels:\n",
    "        dir = os.path.join(data_dir,label)\n",
    "        class_num = labels.index(label)\n",
    "        \n",
    "        for image in os.listdir(dir):    #going through all the images in different folders and resizing them\n",
    "            \n",
    "            image_read = cv.imread(os.path.join(dir,image),cv.IMREAD_GRAYSCALE)\n",
    "            image_resized = cv.resize(image_read,(image_size,image_size))\n",
    "            images.append([image_resized,class_num])\n",
    "            \n",
    "    return np.array(images)"
   ]
  },
  {
   "cell_type": "code",
   "execution_count": 4,
   "id": "431a94af",
   "metadata": {
    "execution": {
     "iopub.execute_input": "2023-01-09T16:22:10.439667Z",
     "iopub.status.busy": "2023-01-09T16:22:10.439221Z",
     "iopub.status.idle": "2023-01-09T16:22:15.529370Z",
     "shell.execute_reply": "2023-01-09T16:22:15.528550Z"
    },
    "papermill": {
     "duration": 5.10306,
     "end_time": "2023-01-09T16:22:15.532051",
     "exception": false,
     "start_time": "2023-01-09T16:22:10.428991",
     "status": "completed"
    },
    "tags": []
   },
   "outputs": [
    {
     "name": "stderr",
     "output_type": "stream",
     "text": [
      "/opt/conda/lib/python3.7/site-packages/ipykernel_launcher.py:15: VisibleDeprecationWarning: Creating an ndarray from ragged nested sequences (which is a list-or-tuple of lists-or-tuples-or ndarrays with different lengths or shapes) is deprecated. If you meant to do this, you must specify 'dtype=object' when creating the ndarray.\n",
      "  from ipykernel import kernelapp as app\n"
     ]
    }
   ],
   "source": [
    "train = create_training_data('/kaggle/input/surface-crack/train')\n",
    "test = create_training_data('/kaggle/input/surface-crack/test')\n",
    "valid = create_training_data('/kaggle/input/surface-crack/valid')"
   ]
  },
  {
   "cell_type": "code",
   "execution_count": 5,
   "id": "46556f6d",
   "metadata": {
    "execution": {
     "iopub.execute_input": "2023-01-09T16:22:15.552722Z",
     "iopub.status.busy": "2023-01-09T16:22:15.552292Z",
     "iopub.status.idle": "2023-01-09T16:22:15.561003Z",
     "shell.execute_reply": "2023-01-09T16:22:15.559910Z"
    },
    "papermill": {
     "duration": 0.022122,
     "end_time": "2023-01-09T16:22:15.563493",
     "exception": false,
     "start_time": "2023-01-09T16:22:15.541371",
     "status": "completed"
    },
    "tags": []
   },
   "outputs": [
    {
     "data": {
      "text/plain": [
       "(600, 2)"
      ]
     },
     "execution_count": 5,
     "metadata": {},
     "output_type": "execute_result"
    }
   ],
   "source": [
    "train.shape"
   ]
  },
  {
   "cell_type": "code",
   "execution_count": 6,
   "id": "f396d481",
   "metadata": {
    "execution": {
     "iopub.execute_input": "2023-01-09T16:22:15.583793Z",
     "iopub.status.busy": "2023-01-09T16:22:15.582635Z",
     "iopub.status.idle": "2023-01-09T16:22:15.589120Z",
     "shell.execute_reply": "2023-01-09T16:22:15.588334Z"
    },
    "papermill": {
     "duration": 0.018558,
     "end_time": "2023-01-09T16:22:15.591135",
     "exception": false,
     "start_time": "2023-01-09T16:22:15.572577",
     "status": "completed"
    },
    "tags": []
   },
   "outputs": [
    {
     "data": {
      "text/plain": [
       "(200, 2)"
      ]
     },
     "execution_count": 6,
     "metadata": {},
     "output_type": "execute_result"
    }
   ],
   "source": [
    "test.shape"
   ]
  },
  {
   "cell_type": "code",
   "execution_count": 7,
   "id": "b5cffb57",
   "metadata": {
    "execution": {
     "iopub.execute_input": "2023-01-09T16:22:15.611902Z",
     "iopub.status.busy": "2023-01-09T16:22:15.610706Z",
     "iopub.status.idle": "2023-01-09T16:22:15.618061Z",
     "shell.execute_reply": "2023-01-09T16:22:15.616801Z"
    },
    "papermill": {
     "duration": 0.020092,
     "end_time": "2023-01-09T16:22:15.620545",
     "exception": false,
     "start_time": "2023-01-09T16:22:15.600453",
     "status": "completed"
    },
    "tags": []
   },
   "outputs": [
    {
     "data": {
      "text/plain": [
       "(200, 2)"
      ]
     },
     "execution_count": 7,
     "metadata": {},
     "output_type": "execute_result"
    }
   ],
   "source": [
    "valid.shape"
   ]
  },
  {
   "cell_type": "markdown",
   "id": "ad76186f",
   "metadata": {
    "papermill": {
     "duration": 0.008882,
     "end_time": "2023-01-09T16:22:15.638779",
     "exception": false,
     "start_time": "2023-01-09T16:22:15.629897",
     "status": "completed"
    },
    "tags": []
   },
   "source": [
    "## Visualizing some images"
   ]
  },
  {
   "cell_type": "code",
   "execution_count": 8,
   "id": "3923ffdf",
   "metadata": {
    "execution": {
     "iopub.execute_input": "2023-01-09T16:22:15.658947Z",
     "iopub.status.busy": "2023-01-09T16:22:15.658564Z",
     "iopub.status.idle": "2023-01-09T16:22:15.952859Z",
     "shell.execute_reply": "2023-01-09T16:22:15.951573Z"
    },
    "papermill": {
     "duration": 0.308143,
     "end_time": "2023-01-09T16:22:15.956117",
     "exception": false,
     "start_time": "2023-01-09T16:22:15.647974",
     "status": "completed"
    },
    "tags": []
   },
   "outputs": [
    {
     "name": "stdout",
     "output_type": "stream",
     "text": [
      "Positive\n"
     ]
    },
    {
     "data": {
      "image/png": "[encoded data removed]",
      "text/plain": [
       "<Figure size 432x288 with 1 Axes>"
      ]
     },
     "metadata": {
      "needs_background": "light"
     },
     "output_type": "display_data"
    }
   ],
   "source": [
    "plt.imshow(train[1][0], cmap='gray')\n",
    "print(labels[train[1][1]])"
   ]
  },
  {
   "cell_type": "code",
   "execution_count": 9,
   "id": "d954b1f1",
   "metadata": {
    "execution": {
     "iopub.execute_input": "2023-01-09T16:22:15.979311Z",
     "iopub.status.busy": "2023-01-09T16:22:15.978895Z",
     "iopub.status.idle": "2023-01-09T16:22:16.233116Z",
     "shell.execute_reply": "2023-01-09T16:22:16.232000Z"
    },
    "papermill": {
     "duration": 0.269142,
     "end_time": "2023-01-09T16:22:16.236037",
     "exception": false,
     "start_time": "2023-01-09T16:22:15.966895",
     "status": "completed"
    },
    "tags": []
   },
   "outputs": [
    {
     "name": "stdout",
     "output_type": "stream",
     "text": [
      "Negative\n"
     ]
    },
    {
     "data": {
      "image/png": "[encoded data removed]",
      "text/plain": [
       "<Figure size 432x288 with 1 Axes>"
      ]
     },
     "metadata": {
      "needs_background": "light"
     },
     "output_type": "display_data"
    }
   ],
   "source": [
    "plt.imshow(train[500][0], cmap='gray')\n",
    "print(labels[train[500][1]])"
   ]
  },
  {
   "cell_type": "markdown",
   "id": "334bf2b4",
   "metadata": {
    "papermill": {
     "duration": 0.012969,
     "end_time": "2023-01-09T16:22:16.262636",
     "exception": false,
     "start_time": "2023-01-09T16:22:16.249667",
     "status": "completed"
    },
    "tags": []
   },
   "source": [
    "## Loading the train and valid Images and Labels together"
   ]
  },
  {
   "cell_type": "code",
   "execution_count": 10,
   "id": "bd9f0a4b",
   "metadata": {
    "execution": {
     "iopub.execute_input": "2023-01-09T16:22:16.288659Z",
     "iopub.status.busy": "2023-01-09T16:22:16.288235Z",
     "iopub.status.idle": "2023-01-09T16:22:16.295446Z",
     "shell.execute_reply": "2023-01-09T16:22:16.294332Z"
    },
    "papermill": {
     "duration": 0.023058,
     "end_time": "2023-01-09T16:22:16.297935",
     "exception": false,
     "start_time": "2023-01-09T16:22:16.274877",
     "status": "completed"
    },
    "tags": []
   },
   "outputs": [],
   "source": [
    "X = []\n",
    "y = []\n",
    "\n",
    "for feature, label in train:\n",
    "    X.append(feature)          #appending all images\n",
    "    y.append(label)            #appending all labels\n",
    "X_valid = []\n",
    "y_valid = []\n",
    "for feature, label in valid:\n",
    "    X_valid.append(feature)\n",
    "    y_valid.append(label)"
   ]
  },
  {
   "cell_type": "code",
   "execution_count": 11,
   "id": "6f93f546",
   "metadata": {
    "execution": {
     "iopub.execute_input": "2023-01-09T16:22:16.323812Z",
     "iopub.status.busy": "2023-01-09T16:22:16.323303Z",
     "iopub.status.idle": "2023-01-09T16:22:16.343418Z",
     "shell.execute_reply": "2023-01-09T16:22:16.342263Z"
    },
    "papermill": {
     "duration": 0.036116,
     "end_time": "2023-01-09T16:22:16.346161",
     "exception": false,
     "start_time": "2023-01-09T16:22:16.310045",
     "status": "completed"
    },
    "tags": []
   },
   "outputs": [],
   "source": [
    "X_train = np.array(X).reshape(-1, image_size, image_size, 1)\n",
    "y_train = np.array(y)\n",
    "y_train = np.expand_dims(y_train, axis =1)"
   ]
  },
  {
   "cell_type": "code",
   "execution_count": 12,
   "id": "1d6e7e91",
   "metadata": {
    "execution": {
     "iopub.execute_input": "2023-01-09T16:22:16.371426Z",
     "iopub.status.busy": "2023-01-09T16:22:16.371018Z",
     "iopub.status.idle": "2023-01-09T16:22:16.382356Z",
     "shell.execute_reply": "2023-01-09T16:22:16.381218Z"
    },
    "papermill": {
     "duration": 0.027331,
     "end_time": "2023-01-09T16:22:16.385264",
     "exception": false,
     "start_time": "2023-01-09T16:22:16.357933",
     "status": "completed"
    },
    "tags": []
   },
   "outputs": [],
   "source": [
    "X_vald = np.array(X_valid).reshape(-1, image_size, image_size, 1)\n",
    "y_vald = np.array(y_valid)\n",
    "y_vald = np.expand_dims(y_vald, axis =1)"
   ]
  },
  {
   "cell_type": "markdown",
   "id": "475ebc4f",
   "metadata": {
    "papermill": {
     "duration": 0.011331,
     "end_time": "2023-01-09T16:22:16.408445",
     "exception": false,
     "start_time": "2023-01-09T16:22:16.397114",
     "status": "completed"
    },
    "tags": []
   },
   "source": [
    "## Loading the test Images and Labels together"
   ]
  },
  {
   "cell_type": "code",
   "execution_count": 13,
   "id": "69b6366c",
   "metadata": {
    "execution": {
     "iopub.execute_input": "2023-01-09T16:22:16.434052Z",
     "iopub.status.busy": "2023-01-09T16:22:16.433626Z",
     "iopub.status.idle": "2023-01-09T16:22:16.439521Z",
     "shell.execute_reply": "2023-01-09T16:22:16.438424Z"
    },
    "papermill": {
     "duration": 0.021687,
     "end_time": "2023-01-09T16:22:16.441889",
     "exception": false,
     "start_time": "2023-01-09T16:22:16.420202",
     "status": "completed"
    },
    "tags": []
   },
   "outputs": [],
   "source": [
    "X_new = []\n",
    "y_new = []\n",
    "\n",
    "for feature, label in test:\n",
    "    X_new.append(feature)          #appending all images\n",
    "    y_new.append(label)            #appending all labels"
   ]
  },
  {
   "cell_type": "markdown",
   "id": "febe72ed",
   "metadata": {
    "papermill": {
     "duration": 0.01156,
     "end_time": "2023-01-09T16:22:16.465600",
     "exception": false,
     "start_time": "2023-01-09T16:22:16.454040",
     "status": "completed"
    },
    "tags": []
   },
   "source": [
    "## Reshaping dimensions before feeding them to the neural network"
   ]
  },
  {
   "cell_type": "code",
   "execution_count": 14,
   "id": "ab2aaf93",
   "metadata": {
    "execution": {
     "iopub.execute_input": "2023-01-09T16:22:16.491413Z",
     "iopub.status.busy": "2023-01-09T16:22:16.490987Z",
     "iopub.status.idle": "2023-01-09T16:22:16.503604Z",
     "shell.execute_reply": "2023-01-09T16:22:16.501980Z"
    },
    "papermill": {
     "duration": 0.028344,
     "end_time": "2023-01-09T16:22:16.506207",
     "exception": false,
     "start_time": "2023-01-09T16:22:16.477863",
     "status": "completed"
    },
    "tags": []
   },
   "outputs": [],
   "source": [
    "X_test = np.array(X_new).reshape(-1, image_size, image_size, 1)\n",
    "y_test = np.array(y_new)\n",
    "y_test = np.expand_dims(y_test, axis =1)"
   ]
  },
  {
   "cell_type": "code",
   "execution_count": 15,
   "id": "08893e65",
   "metadata": {
    "execution": {
     "iopub.execute_input": "2023-01-09T16:22:16.532000Z",
     "iopub.status.busy": "2023-01-09T16:22:16.531565Z",
     "iopub.status.idle": "2023-01-09T16:22:16.538972Z",
     "shell.execute_reply": "2023-01-09T16:22:16.537570Z"
    },
    "papermill": {
     "duration": 0.023332,
     "end_time": "2023-01-09T16:22:16.541383",
     "exception": false,
     "start_time": "2023-01-09T16:22:16.518051",
     "status": "completed"
    },
    "tags": []
   },
   "outputs": [
    {
     "data": {
      "text/plain": [
       "(600, 224, 224, 1)"
      ]
     },
     "execution_count": 15,
     "metadata": {},
     "output_type": "execute_result"
    }
   ],
   "source": [
    "X_train.shape"
   ]
  },
  {
   "cell_type": "code",
   "execution_count": 16,
   "id": "2e828815",
   "metadata": {
    "execution": {
     "iopub.execute_input": "2023-01-09T16:22:16.566827Z",
     "iopub.status.busy": "2023-01-09T16:22:16.566371Z",
     "iopub.status.idle": "2023-01-09T16:22:16.573828Z",
     "shell.execute_reply": "2023-01-09T16:22:16.572635Z"
    },
    "papermill": {
     "duration": 0.023025,
     "end_time": "2023-01-09T16:22:16.576304",
     "exception": false,
     "start_time": "2023-01-09T16:22:16.553279",
     "status": "completed"
    },
    "tags": []
   },
   "outputs": [
    {
     "data": {
      "text/plain": [
       "(600, 1)"
      ]
     },
     "execution_count": 16,
     "metadata": {},
     "output_type": "execute_result"
    }
   ],
   "source": [
    "y_train.shape"
   ]
  },
  {
   "cell_type": "code",
   "execution_count": 17,
   "id": "82ee2fb7",
   "metadata": {
    "execution": {
     "iopub.execute_input": "2023-01-09T16:22:16.602356Z",
     "iopub.status.busy": "2023-01-09T16:22:16.601917Z",
     "iopub.status.idle": "2023-01-09T16:22:16.779566Z",
     "shell.execute_reply": "2023-01-09T16:22:16.778217Z"
    },
    "papermill": {
     "duration": 0.193628,
     "end_time": "2023-01-09T16:22:16.782207",
     "exception": false,
     "start_time": "2023-01-09T16:22:16.588579",
     "status": "completed"
    },
    "tags": []
   },
   "outputs": [],
   "source": [
    "X_train = X_train / 255            # normalizing\n",
    "X_test = X_test / 255\n",
    "X_vald = X_vald/ 255"
   ]
  },
  {
   "cell_type": "markdown",
   "id": "b3236c54",
   "metadata": {
    "papermill": {
     "duration": 0.011476,
     "end_time": "2023-01-09T16:22:16.805619",
     "exception": false,
     "start_time": "2023-01-09T16:22:16.794143",
     "status": "completed"
    },
    "tags": []
   },
   "source": [
    "# Creating the CNN Model:"
   ]
  },
  {
   "cell_type": "code",
   "execution_count": 18,
   "id": "2e2101fa",
   "metadata": {
    "execution": {
     "iopub.execute_input": "2023-01-09T16:22:16.832288Z",
     "iopub.status.busy": "2023-01-09T16:22:16.831832Z",
     "iopub.status.idle": "2023-01-09T16:22:17.383988Z",
     "shell.execute_reply": "2023-01-09T16:22:17.382845Z"
    },
    "papermill": {
     "duration": 0.569174,
     "end_time": "2023-01-09T16:22:17.386754",
     "exception": false,
     "start_time": "2023-01-09T16:22:16.817580",
     "status": "completed"
    },
    "tags": []
   },
   "outputs": [
    {
     "name": "stderr",
     "output_type": "stream",
     "text": [
      "2023-01-09 16:22:16.891057: I tensorflow/core/common_runtime/process_util.cc:146] Creating new thread pool with default inter op setting: 2. Tune using inter_op_parallelism_threads for best performance.\n"
     ]
    }
   ],
   "source": [
    "i = Input(X_train.shape[1:])                                        # Input Layer\n",
    "\n",
    "a = Conv2D(32, (3,3), activation ='relu', padding = 'same')(i)      # Convolution\n",
    "a = BatchNormalization()(a)                                         # Batch Normalization\n",
    "a = Conv2D(32, (3,3), activation ='relu', padding = 'same')(a)\n",
    "a = BatchNormalization()(a)\n",
    "a = MaxPooling2D(2,2)(a)                                            # Max Pooling\n",
    "\n",
    "a = Conv2D(64, (3,3), activation ='relu', padding = 'same')(a)\n",
    "a = BatchNormalization()(a)\n",
    "a = Conv2D(64, (3,3), activation ='relu', padding = 'same')(a)\n",
    "a = BatchNormalization()(a)\n",
    "a = MaxPooling2D(2,2)(a)\n",
    "\n",
    "a = Conv2D(128, (3,3), activation ='relu', padding = 'same')(a)\n",
    "a = BatchNormalization()(a)\n",
    "a = Conv2D(128, (3,3), activation ='relu', padding = 'same')(a)\n",
    "a = BatchNormalization()(a)\n",
    "a = MaxPooling2D(2,2)(a)\n",
    "\n",
    "a = Conv2D(256, (3,3), activation ='relu', padding = 'same')(a)\n",
    "a = BatchNormalization()(a)\n",
    "a = Conv2D(256, (3,3), activation ='relu', padding = 'same')(a)\n",
    "a = BatchNormalization()(a)\n",
    "a = MaxPooling2D(2,2)(a)\n",
    "\n",
    "a = Flatten()(a)                                                      # Flatten\n",
    "a = Dense(512, activation = 'relu')(a)                               # Fully Connected layer\n",
    "a = Dropout(0.4)(a)\n",
    "a = Dense(512, activation = 'relu')(a)\n",
    "a = Dropout(0.3)(a)\n",
    "a = Dense(512, activation = 'relu')(a)\n",
    "a = Dropout(0.1)(a)\n",
    "\n",
    "a = Dense(1, activation = 'sigmoid')(a)                               # Output Layer\n",
    "\n",
    "model = Model(i,a)"
   ]
  },
  {
   "cell_type": "markdown",
   "id": "23bf63a0",
   "metadata": {
    "papermill": {
     "duration": 0.012426,
     "end_time": "2023-01-09T16:22:17.411663",
     "exception": false,
     "start_time": "2023-01-09T16:22:17.399237",
     "status": "completed"
    },
    "tags": []
   },
   "source": [
    "## Compiling and viewing the model summary"
   ]
  },
  {
   "cell_type": "code",
   "execution_count": 19,
   "id": "076e0bab",
   "metadata": {
    "execution": {
     "iopub.execute_input": "2023-01-09T16:22:17.438350Z",
     "iopub.status.busy": "2023-01-09T16:22:17.437553Z",
     "iopub.status.idle": "2023-01-09T16:22:17.458332Z",
     "shell.execute_reply": "2023-01-09T16:22:17.457071Z"
    },
    "papermill": {
     "duration": 0.037305,
     "end_time": "2023-01-09T16:22:17.461331",
     "exception": false,
     "start_time": "2023-01-09T16:22:17.424026",
     "status": "completed"
    },
    "tags": []
   },
   "outputs": [
    {
     "name": "stdout",
     "output_type": "stream",
     "text": [
      "Model: \"model\"\n",
      "_________________________________________________________________\n",
      "Layer (type)                 Output Shape              Param #   \n",
      "=================================================================\n",
      "input_1 (InputLayer)         [(None, 224, 224, 1)]     0         \n",
      "_________________________________________________________________\n",
      "conv2d (Conv2D)              (None, 224, 224, 32)      320       \n",
      "_________________________________________________________________\n",
      "batch_normalization (BatchNo (None, 224, 224, 32)      128       \n",
      "_________________________________________________________________\n",
      "conv2d_1 (Conv2D)            (None, 224, 224, 32)      9248      \n",
      "_________________________________________________________________\n",
      "batch_normalization_1 (Batch (None, 224, 224, 32)      128       \n",
      "_________________________________________________________________\n",
      "max_pooling2d (MaxPooling2D) (None, 112, 112, 32)      0         \n",
      "_________________________________________________________________\n",
      "conv2d_2 (Conv2D)            (None, 112, 112, 64)      18496     \n",
      "_________________________________________________________________\n",
      "batch_normalization_2 (Batch (None, 112, 112, 64)      256       \n",
      "_________________________________________________________________\n",
      "conv2d_3 (Conv2D)            (None, 112, 112, 64)      36928     \n",
      "_________________________________________________________________\n",
      "batch_normalization_3 (Batch (None, 112, 112, 64)      256       \n",
      "_________________________________________________________________\n",
      "max_pooling2d_1 (MaxPooling2 (None, 56, 56, 64)        0         \n",
      "_________________________________________________________________\n",
      "conv2d_4 (Conv2D)            (None, 56, 56, 128)       73856     \n",
      "_________________________________________________________________\n",
      "batch_normalization_4 (Batch (None, 56, 56, 128)       512       \n",
      "_________________________________________________________________\n",
      "conv2d_5 (Conv2D)            (None, 56, 56, 128)       147584    \n",
      "_________________________________________________________________\n",
      "batch_normalization_5 (Batch (None, 56, 56, 128)       512       \n",
      "_________________________________________________________________\n",
      "max_pooling2d_2 (MaxPooling2 (None, 28, 28, 128)       0         \n",
      "_________________________________________________________________\n",
      "conv2d_6 (Conv2D)            (None, 28, 28, 256)       295168    \n",
      "_________________________________________________________________\n",
      "batch_normalization_6 (Batch (None, 28, 28, 256)       1024      \n",
      "_________________________________________________________________\n",
      "conv2d_7 (Conv2D)            (None, 28, 28, 256)       590080    \n",
      "_________________________________________________________________\n",
      "batch_normalization_7 (Batch (None, 28, 28, 256)       1024      \n",
      "_________________________________________________________________\n",
      "max_pooling2d_3 (MaxPooling2 (None, 14, 14, 256)       0         \n",
      "_________________________________________________________________\n",
      "flatten (Flatten)            (None, 50176)             0         \n",
      "_________________________________________________________________\n",
      "dense (Dense)                (None, 512)               25690624  \n",
      "_________________________________________________________________\n",
      "dropout (Dropout)            (None, 512)               0         \n",
      "_________________________________________________________________\n",
      "dense_1 (Dense)              (None, 512)               262656    \n",
      "_________________________________________________________________\n",
      "dropout_1 (Dropout)          (None, 512)               0         \n",
      "_________________________________________________________________\n",
      "dense_2 (Dense)              (None, 512)               262656    \n",
      "_________________________________________________________________\n",
      "dropout_2 (Dropout)          (None, 512)               0         \n",
      "_________________________________________________________________\n",
      "dense_3 (Dense)              (None, 1)                 513       \n",
      "=================================================================\n",
      "Total params: 27,391,969\n",
      "Trainable params: 27,390,049\n",
      "Non-trainable params: 1,920\n",
      "_________________________________________________________________\n"
     ]
    },
    {
     "name": "stderr",
     "output_type": "stream",
     "text": [
      "/opt/conda/lib/python3.7/site-packages/keras/optimizer_v2/optimizer_v2.py:356: UserWarning: The `lr` argument is deprecated, use `learning_rate` instead.\n",
      "  \"The `lr` argument is deprecated, use `learning_rate` instead.\")\n"
     ]
    }
   ],
   "source": [
    "model.compile(optimizer=Adam(lr = 0.0001), loss=\"binary_crossentropy\", metrics=[\"accuracy\"])\n",
    "model.summary()"
   ]
  },
  {
   "cell_type": "markdown",
   "id": "04ca2536",
   "metadata": {
    "papermill": {
     "duration": 0.013301,
     "end_time": "2023-01-09T16:22:17.487333",
     "exception": false,
     "start_time": "2023-01-09T16:22:17.474032",
     "status": "completed"
    },
    "tags": []
   },
   "source": [
    "# Data Augmentation"
   ]
  },
  {
   "cell_type": "code",
   "execution_count": 20,
   "id": "5c293194",
   "metadata": {
    "execution": {
     "iopub.execute_input": "2023-01-09T16:22:17.515305Z",
     "iopub.status.busy": "2023-01-09T16:22:17.514367Z",
     "iopub.status.idle": "2023-01-09T16:22:17.585915Z",
     "shell.execute_reply": "2023-01-09T16:22:17.584704Z"
    },
    "papermill": {
     "duration": 0.088283,
     "end_time": "2023-01-09T16:22:17.588723",
     "exception": false,
     "start_time": "2023-01-09T16:22:17.500440",
     "status": "completed"
    },
    "tags": []
   },
   "outputs": [],
   "source": [
    "batch_size = 4\n",
    "\n",
    "train_gen = ImageDataGenerator(rotation_range=10,\n",
    "                                   horizontal_flip = True,\n",
    "                                   width_shift_range=0.1,\n",
    "                                   height_shift_range=0.1,\n",
    "                                   rescale=1.,\n",
    "                                   zoom_range=0.2,\n",
    "                                   fill_mode='nearest',\n",
    "                                   cval=0)\n",
    "\n",
    "train_generator = train_gen.flow(X_train,y_train,batch_size)\n",
    "steps_per_epoch = X_train.shape[0]//batch_size"
   ]
  },
  {
   "cell_type": "code",
   "execution_count": 21,
   "id": "66191670",
   "metadata": {
    "execution": {
     "iopub.execute_input": "2023-01-09T16:22:17.616439Z",
     "iopub.status.busy": "2023-01-09T16:22:17.616011Z",
     "iopub.status.idle": "2023-01-09T16:22:17.621517Z",
     "shell.execute_reply": "2023-01-09T16:22:17.620338Z"
    },
    "papermill": {
     "duration": 0.022173,
     "end_time": "2023-01-09T16:22:17.624022",
     "exception": false,
     "start_time": "2023-01-09T16:22:17.601849",
     "status": "completed"
    },
    "tags": []
   },
   "outputs": [],
   "source": [
    "checkpoint = ModelCheckpoint('surface-crack', monitor='val_loss', verbose=1, save_best_only=True, mode='auto')"
   ]
  },
  {
   "cell_type": "code",
   "execution_count": 22,
   "id": "5d51b62f",
   "metadata": {
    "execution": {
     "iopub.execute_input": "2023-01-09T16:22:17.651694Z",
     "iopub.status.busy": "2023-01-09T16:22:17.651230Z",
     "iopub.status.idle": "2023-01-09T16:56:28.273379Z",
     "shell.execute_reply": "2023-01-09T16:56:28.272243Z"
    },
    "papermill": {
     "duration": 2050.788891,
     "end_time": "2023-01-09T16:56:28.425568",
     "exception": false,
     "start_time": "2023-01-09T16:22:17.636677",
     "status": "completed"
    },
    "tags": []
   },
   "outputs": [
    {
     "name": "stderr",
     "output_type": "stream",
     "text": [
      "2023-01-09 16:22:17.757736: I tensorflow/compiler/mlir/mlir_graph_optimization_pass.cc:185] None of the MLIR Optimization Passes are enabled (registered 2)\n"
     ]
    },
    {
     "name": "stdout",
     "output_type": "stream",
     "text": [
      "Epoch 1/15\n",
      "150/150 [==============================] - 130s 855ms/step - loss: 2.0583 - accuracy: 0.5500 - val_loss: 1.5247 - val_accuracy: 0.5000\n",
      "\n",
      "Epoch 00001: val_loss improved from inf to 1.52470, saving model to surface-crack\n"
     ]
    },
    {
     "name": "stderr",
     "output_type": "stream",
     "text": [
      "2023-01-09 16:24:30.152192: W tensorflow/python/util/util.cc:348] Sets are not currently considered sequences, but this may change in the future, so consider avoiding using them.\n"
     ]
    },
    {
     "name": "stdout",
     "output_type": "stream",
     "text": [
      "Epoch 2/15\n",
      "150/150 [==============================] - 128s 852ms/step - loss: 1.4697 - accuracy: 0.6067 - val_loss: 3.7309 - val_accuracy: 0.5000\n",
      "\n",
      "Epoch 00002: val_loss did not improve from 1.52470\n",
      "Epoch 3/15\n",
      "150/150 [==============================] - 131s 874ms/step - loss: 1.5664 - accuracy: 0.6800 - val_loss: 2.0195 - val_accuracy: 0.6250\n",
      "\n",
      "Epoch 00003: val_loss did not improve from 1.52470\n",
      "Epoch 4/15\n",
      "150/150 [==============================] - 130s 864ms/step - loss: 1.0895 - accuracy: 0.7283 - val_loss: 0.1218 - val_accuracy: 0.9500\n",
      "\n",
      "Epoch 00004: val_loss improved from 1.52470 to 0.12180, saving model to surface-crack\n",
      "Epoch 5/15\n",
      "150/150 [==============================] - 129s 857ms/step - loss: 0.7261 - accuracy: 0.7767 - val_loss: 0.1128 - val_accuracy: 0.9750\n",
      "\n",
      "Epoch 00005: val_loss improved from 0.12180 to 0.11282, saving model to surface-crack\n",
      "Epoch 6/15\n",
      "150/150 [==============================] - 127s 844ms/step - loss: 0.8129 - accuracy: 0.7900 - val_loss: 0.0341 - val_accuracy: 0.9900\n",
      "\n",
      "Epoch 00006: val_loss improved from 0.11282 to 0.03413, saving model to surface-crack\n",
      "Epoch 7/15\n",
      "150/150 [==============================] - 127s 846ms/step - loss: 0.6123 - accuracy: 0.8217 - val_loss: 0.1765 - val_accuracy: 0.9300\n",
      "\n",
      "Epoch 00007: val_loss did not improve from 0.03413\n",
      "Epoch 8/15\n",
      "150/150 [==============================] - 127s 849ms/step - loss: 0.7753 - accuracy: 0.8100 - val_loss: 0.0872 - val_accuracy: 0.9700\n",
      "\n",
      "Epoch 00008: val_loss did not improve from 0.03413\n",
      "Epoch 9/15\n",
      "150/150 [==============================] - 129s 859ms/step - loss: 0.6072 - accuracy: 0.8417 - val_loss: 0.0503 - val_accuracy: 0.9950\n",
      "\n",
      "Epoch 00009: val_loss did not improve from 0.03413\n",
      "Epoch 10/15\n",
      "150/150 [==============================] - 129s 861ms/step - loss: 0.4997 - accuracy: 0.8517 - val_loss: 0.1864 - val_accuracy: 0.9550\n",
      "\n",
      "Epoch 00010: val_loss did not improve from 0.03413\n",
      "Epoch 11/15\n",
      "150/150 [==============================] - 128s 853ms/step - loss: 0.5653 - accuracy: 0.8500 - val_loss: 0.1275 - val_accuracy: 0.9600\n",
      "\n",
      "Epoch 00011: val_loss did not improve from 0.03413\n",
      "Epoch 12/15\n",
      "150/150 [==============================] - 127s 848ms/step - loss: 0.4928 - accuracy: 0.8583 - val_loss: 0.0588 - val_accuracy: 0.9650\n",
      "\n",
      "Epoch 00012: val_loss did not improve from 0.03413\n",
      "Epoch 13/15\n",
      "150/150 [==============================] - 129s 861ms/step - loss: 0.4438 - accuracy: 0.8767 - val_loss: 0.1785 - val_accuracy: 0.9400\n",
      "\n",
      "Epoch 00013: val_loss did not improve from 0.03413\n",
      "Epoch 14/15\n",
      "150/150 [==============================] - 129s 859ms/step - loss: 0.3667 - accuracy: 0.9033 - val_loss: 0.1218 - val_accuracy: 0.9750\n",
      "\n",
      "Epoch 00014: val_loss did not improve from 0.03413\n",
      "Epoch 15/15\n",
      "150/150 [==============================] - 128s 851ms/step - loss: 0.3441 - accuracy: 0.8750 - val_loss: 0.0972 - val_accuracy: 0.9650\n",
      "\n",
      "Epoch 00015: val_loss did not improve from 0.03413\n"
     ]
    }
   ],
   "source": [
    "r = model.fit(train_generator, validation_data=(X_vald, y_vald), steps_per_epoch = steps_per_epoch, epochs= 15,\n",
    "                       callbacks = [checkpoint])"
   ]
  },
  {
   "cell_type": "code",
   "execution_count": 23,
   "id": "7f1f8c78",
   "metadata": {
    "execution": {
     "iopub.execute_input": "2023-01-09T16:56:28.733877Z",
     "iopub.status.busy": "2023-01-09T16:56:28.733129Z",
     "iopub.status.idle": "2023-01-09T16:56:28.977608Z",
     "shell.execute_reply": "2023-01-09T16:56:28.976798Z"
    },
    "papermill": {
     "duration": 0.401673,
     "end_time": "2023-01-09T16:56:28.979739",
     "exception": false,
     "start_time": "2023-01-09T16:56:28.578066",
     "status": "completed"
    },
    "tags": []
   },
   "outputs": [
    {
     "data": {
      "text/plain": [
       "<matplotlib.legend.Legend at 0x7f584ef87d10>"
      ]
     },
     "execution_count": 23,
     "metadata": {},
     "output_type": "execute_result"
    },
    {
     "data": {
      "image/png": "[encoded data removed]",
      "text/plain": [
       "<Figure size 432x288 with 1 Axes>"
      ]
     },
     "metadata": {
      "needs_background": "light"
     },
     "output_type": "display_data"
    }
   ],
   "source": [
    "plt.plot(r.history['loss'],label='loss')\n",
    "plt.plot(r.history['val_loss'],label='val_loss')\n",
    "plt.legend()"
   ]
  },
  {
   "cell_type": "code",
   "execution_count": 24,
   "id": "d9bbc5c3",
   "metadata": {
    "execution": {
     "iopub.execute_input": "2023-01-09T16:56:29.285807Z",
     "iopub.status.busy": "2023-01-09T16:56:29.285093Z",
     "iopub.status.idle": "2023-01-09T16:56:31.744899Z",
     "shell.execute_reply": "2023-01-09T16:56:31.743851Z"
    },
    "papermill": {
     "duration": 2.615858,
     "end_time": "2023-01-09T16:56:31.747371",
     "exception": false,
     "start_time": "2023-01-09T16:56:29.131513",
     "status": "completed"
    },
    "tags": []
   },
   "outputs": [],
   "source": [
    "new_model = tf.keras.models.load_model('surface-crack')   #loading model to train further"
   ]
  },
  {
   "cell_type": "code",
   "execution_count": 25,
   "id": "8baba4bc",
   "metadata": {
    "execution": {
     "iopub.execute_input": "2023-01-09T16:56:32.055416Z",
     "iopub.status.busy": "2023-01-09T16:56:32.055004Z",
     "iopub.status.idle": "2023-01-09T17:20:38.202701Z",
     "shell.execute_reply": "2023-01-09T17:20:38.201034Z"
    },
    "papermill": {
     "duration": 1446.306572,
     "end_time": "2023-01-09T17:20:38.205646",
     "exception": false,
     "start_time": "2023-01-09T16:56:31.899074",
     "status": "completed"
    },
    "tags": []
   },
   "outputs": [
    {
     "name": "stderr",
     "output_type": "stream",
     "text": [
      "/opt/conda/lib/python3.7/site-packages/keras/optimizer_v2/optimizer_v2.py:356: UserWarning: The `lr` argument is deprecated, use `learning_rate` instead.\n",
      "  \"The `lr` argument is deprecated, use `learning_rate` instead.\")\n"
     ]
    },
    {
     "name": "stdout",
     "output_type": "stream",
     "text": [
      "Epoch 1/10\n",
      "150/150 [==============================] - 131s 865ms/step - loss: 0.5133 - accuracy: 0.8367 - val_loss: 0.0721 - val_accuracy: 0.9750\n",
      "\n",
      "Epoch 00001: val_loss improved from inf to 0.07206, saving model to surface-crack\n",
      "Epoch 2/10\n",
      "150/150 [==============================] - 136s 906ms/step - loss: 0.4315 - accuracy: 0.8600 - val_loss: 0.0475 - val_accuracy: 0.9900\n",
      "\n",
      "Epoch 00002: val_loss improved from 0.07206 to 0.04746, saving model to surface-crack\n",
      "Epoch 3/10\n",
      "150/150 [==============================] - 147s 983ms/step - loss: 0.4332 - accuracy: 0.8783 - val_loss: 0.1816 - val_accuracy: 0.9350\n",
      "\n",
      "Epoch 00003: val_loss did not improve from 0.04746\n",
      "Epoch 4/10\n",
      "150/150 [==============================] - 138s 922ms/step - loss: 0.4332 - accuracy: 0.8600 - val_loss: 0.0451 - val_accuracy: 0.9900\n",
      "\n",
      "Epoch 00004: val_loss improved from 0.04746 to 0.04505, saving model to surface-crack\n",
      "Epoch 5/10\n",
      "150/150 [==============================] - 136s 906ms/step - loss: 0.3957 - accuracy: 0.8650 - val_loss: 0.0737 - val_accuracy: 0.9900\n",
      "\n",
      "Epoch 00005: val_loss did not improve from 0.04505\n",
      "Epoch 6/10\n",
      "150/150 [==============================] - 136s 905ms/step - loss: 0.4101 - accuracy: 0.8583 - val_loss: 0.0705 - val_accuracy: 0.9850\n",
      "\n",
      "Epoch 00006: val_loss did not improve from 0.04505\n",
      "Epoch 7/10\n",
      "150/150 [==============================] - 135s 899ms/step - loss: 0.3130 - accuracy: 0.8883 - val_loss: 0.0426 - val_accuracy: 0.9900\n",
      "\n",
      "Epoch 00007: val_loss improved from 0.04505 to 0.04262, saving model to surface-crack\n",
      "Epoch 8/10\n",
      "150/150 [==============================] - 131s 875ms/step - loss: 0.3505 - accuracy: 0.8867 - val_loss: 0.0531 - val_accuracy: 0.9900\n",
      "\n",
      "Epoch 00008: val_loss did not improve from 0.04262\n",
      "Epoch 9/10\n",
      "150/150 [==============================] - 127s 847ms/step - loss: 0.2721 - accuracy: 0.8933 - val_loss: 0.0605 - val_accuracy: 0.9900\n",
      "\n",
      "Epoch 00009: val_loss did not improve from 0.04262\n",
      "Epoch 10/10\n",
      "150/150 [==============================] - 131s 872ms/step - loss: 0.2811 - accuracy: 0.9017 - val_loss: 0.0459 - val_accuracy: 0.9850\n",
      "\n",
      "Epoch 00010: val_loss did not improve from 0.04262\n"
     ]
    }
   ],
   "source": [
    "new_model.compile(optimizer = Adam(lr = 0.00001), loss = 'binary_crossentropy', metrics = ['accuracy']) \n",
    "\n",
    "checkpoint1 = ModelCheckpoint('surface-crack', monitor='val_loss', verbose=1, save_best_only=True, mode='auto')\n",
    "\n",
    "batch_size = 4\n",
    "\n",
    "r1 = new_model.fit(train_generator, validation_data=(X_vald, y_vald), steps_per_epoch = steps_per_epoch, epochs= 10,\n",
    "                       callbacks = [checkpoint1])"
   ]
  },
  {
   "cell_type": "code",
   "execution_count": 26,
   "id": "780ed0fe",
   "metadata": {
    "execution": {
     "iopub.execute_input": "2023-01-09T17:20:38.784321Z",
     "iopub.status.busy": "2023-01-09T17:20:38.783892Z",
     "iopub.status.idle": "2023-01-09T17:20:40.894291Z",
     "shell.execute_reply": "2023-01-09T17:20:40.892670Z"
    },
    "papermill": {
     "duration": 2.435425,
     "end_time": "2023-01-09T17:20:40.899995",
     "exception": false,
     "start_time": "2023-01-09T17:20:38.464570",
     "status": "completed"
    },
    "tags": []
   },
   "outputs": [],
   "source": [
    "final_model = tf.keras.models.load_model('surface-crack')"
   ]
  },
  {
   "cell_type": "code",
   "execution_count": 27,
   "id": "a8ac5f68",
   "metadata": {
    "execution": {
     "iopub.execute_input": "2023-01-09T17:20:41.423113Z",
     "iopub.status.busy": "2023-01-09T17:20:41.422496Z",
     "iopub.status.idle": "2023-01-09T17:20:51.404441Z",
     "shell.execute_reply": "2023-01-09T17:20:51.403272Z"
    },
    "papermill": {
     "duration": 10.248742,
     "end_time": "2023-01-09T17:20:51.407041",
     "exception": false,
     "start_time": "2023-01-09T17:20:41.158299",
     "status": "completed"
    },
    "tags": []
   },
   "outputs": [
    {
     "data": {
      "text/plain": [
       "array([[4.62979674e-02],\n",
       "       [1.30086839e-02],\n",
       "       [9.75982308e-01],\n",
       "       [4.23389673e-02],\n",
       "       [1.70373917e-03],\n",
       "       [1.48514986e-01],\n",
       "       [9.78462458e-01],\n",
       "       [2.44391561e-02],\n",
       "       [2.65438348e-01],\n",
       "       [9.56040382e-01],\n",
       "       [1.54949546e-01],\n",
       "       [9.76542890e-01],\n",
       "       [9.68182802e-01],\n",
       "       [8.00728202e-01],\n",
       "       [2.25197196e-01],\n",
       "       [6.30965829e-02],\n",
       "       [8.71459007e-01],\n",
       "       [5.68544865e-02],\n",
       "       [9.87412095e-01],\n",
       "       [9.92628932e-01],\n",
       "       [9.90036070e-01],\n",
       "       [9.87524211e-01],\n",
       "       [9.89127278e-01],\n",
       "       [9.31166887e-01],\n",
       "       [9.97092724e-01],\n",
       "       [9.83677745e-01],\n",
       "       [1.48433745e-02],\n",
       "       [9.80013192e-01],\n",
       "       [7.19070435e-04],\n",
       "       [5.80707192e-03],\n",
       "       [8.88201594e-01],\n",
       "       [1.04485864e-09],\n",
       "       [1.66743994e-04],\n",
       "       [7.18718290e-01],\n",
       "       [1.39561296e-03],\n",
       "       [2.22415924e-02],\n",
       "       [1.23499364e-01],\n",
       "       [8.72850418e-03],\n",
       "       [5.86810708e-03],\n",
       "       [3.64975154e-01],\n",
       "       [7.85802484e-01],\n",
       "       [3.98546536e-06],\n",
       "       [9.46332872e-01],\n",
       "       [1.49458647e-04],\n",
       "       [1.05210215e-01],\n",
       "       [9.95931566e-01],\n",
       "       [6.33319259e-01],\n",
       "       [8.66961956e-01],\n",
       "       [4.00851965e-02],\n",
       "       [1.44376755e-02],\n",
       "       [1.99863970e-01],\n",
       "       [1.10848069e-01],\n",
       "       [9.74489152e-01],\n",
       "       [9.92299438e-01],\n",
       "       [9.86586750e-01],\n",
       "       [1.24504697e-06],\n",
       "       [4.52727079e-04],\n",
       "       [3.15189362e-04],\n",
       "       [3.55062544e-01],\n",
       "       [9.93584991e-01],\n",
       "       [9.80476737e-01],\n",
       "       [3.05711455e-06],\n",
       "       [9.74771500e-01],\n",
       "       [7.34259963e-01],\n",
       "       [9.80823040e-01],\n",
       "       [6.30676746e-04],\n",
       "       [9.97711182e-01],\n",
       "       [5.46011329e-03],\n",
       "       [3.69501114e-03],\n",
       "       [8.88949871e-01],\n",
       "       [9.81971264e-01],\n",
       "       [6.29304767e-01],\n",
       "       [9.81995165e-01],\n",
       "       [2.20065976e-06],\n",
       "       [7.87444115e-01],\n",
       "       [9.92503703e-01],\n",
       "       [9.60991204e-01],\n",
       "       [8.70063186e-01],\n",
       "       [9.76505637e-01],\n",
       "       [1.44837141e-01],\n",
       "       [5.54895401e-03],\n",
       "       [9.25085604e-01],\n",
       "       [9.78320181e-01],\n",
       "       [9.61917520e-01],\n",
       "       [1.25209570e-01],\n",
       "       [7.10999370e-02],\n",
       "       [9.48407710e-01],\n",
       "       [9.74364996e-01],\n",
       "       [3.92215725e-06],\n",
       "       [8.25279832e-01],\n",
       "       [1.18280195e-05],\n",
       "       [9.05848980e-01],\n",
       "       [8.31204653e-03],\n",
       "       [9.78010178e-01],\n",
       "       [7.52480173e-06],\n",
       "       [6.59636855e-01],\n",
       "       [9.45026994e-01],\n",
       "       [9.91478980e-01],\n",
       "       [8.08630884e-01],\n",
       "       [4.68606323e-01],\n",
       "       [9.92944002e-01],\n",
       "       [7.81605959e-01],\n",
       "       [9.92511988e-01],\n",
       "       [9.96739149e-01],\n",
       "       [9.85463977e-01],\n",
       "       [9.86973345e-01],\n",
       "       [9.95630026e-01],\n",
       "       [8.13171387e-01],\n",
       "       [9.96913671e-01],\n",
       "       [9.72553134e-01],\n",
       "       [9.79764462e-01],\n",
       "       [9.98024344e-01],\n",
       "       [2.72570193e-01],\n",
       "       [9.36323881e-01],\n",
       "       [9.87411380e-01],\n",
       "       [9.88224924e-01],\n",
       "       [9.87956464e-01],\n",
       "       [9.94781256e-01],\n",
       "       [9.91918206e-01],\n",
       "       [9.97575760e-01],\n",
       "       [9.00476575e-01],\n",
       "       [9.90146756e-01],\n",
       "       [9.97115731e-01],\n",
       "       [9.97151017e-01],\n",
       "       [9.92460489e-01],\n",
       "       [9.96430516e-01],\n",
       "       [9.95241880e-01],\n",
       "       [9.93348002e-01],\n",
       "       [9.96460736e-01],\n",
       "       [9.97940660e-01],\n",
       "       [9.95836377e-01],\n",
       "       [9.70701098e-01],\n",
       "       [9.92402375e-01],\n",
       "       [9.00387883e-01],\n",
       "       [9.93577242e-01],\n",
       "       [1.10898376e-01],\n",
       "       [9.93392229e-01],\n",
       "       [9.97996330e-01],\n",
       "       [9.89188194e-01],\n",
       "       [9.95646000e-01],\n",
       "       [9.93431687e-01],\n",
       "       [9.92752910e-01],\n",
       "       [9.98288989e-01],\n",
       "       [9.97410357e-01],\n",
       "       [9.87780035e-01],\n",
       "       [9.94202495e-01],\n",
       "       [9.97167706e-01],\n",
       "       [9.89478767e-01],\n",
       "       [1.91960245e-01],\n",
       "       [9.63799775e-01],\n",
       "       [9.95824516e-01],\n",
       "       [9.98121023e-01],\n",
       "       [9.96645451e-01],\n",
       "       [9.90276217e-01],\n",
       "       [9.54931259e-01],\n",
       "       [2.79118896e-01],\n",
       "       [5.43131888e-01],\n",
       "       [9.97437716e-01],\n",
       "       [9.94881272e-01],\n",
       "       [9.94512677e-01],\n",
       "       [9.84718740e-01],\n",
       "       [8.84442091e-01],\n",
       "       [9.97073472e-01],\n",
       "       [9.93465841e-01],\n",
       "       [9.88589287e-01],\n",
       "       [9.93644416e-01],\n",
       "       [9.75400984e-01],\n",
       "       [9.97264385e-01],\n",
       "       [9.73843813e-01],\n",
       "       [2.27283657e-01],\n",
       "       [5.66345453e-01],\n",
       "       [1.15345240e-01],\n",
       "       [9.91248786e-01],\n",
       "       [9.95081902e-01],\n",
       "       [1.55335367e-01],\n",
       "       [9.77935135e-01],\n",
       "       [9.14006114e-01],\n",
       "       [9.93720293e-01],\n",
       "       [9.58546042e-01],\n",
       "       [1.03366762e-01],\n",
       "       [9.95241523e-01],\n",
       "       [9.88081336e-01],\n",
       "       [9.95437503e-01],\n",
       "       [8.58445048e-01],\n",
       "       [9.90760446e-01],\n",
       "       [9.89770412e-01],\n",
       "       [9.88038540e-01],\n",
       "       [1.30768389e-01],\n",
       "       [9.92735565e-01],\n",
       "       [2.81194806e-01],\n",
       "       [9.13884878e-01],\n",
       "       [9.57149148e-01],\n",
       "       [9.64960814e-01],\n",
       "       [9.97624934e-01],\n",
       "       [7.53082931e-02],\n",
       "       [9.94994164e-01],\n",
       "       [2.70842433e-01],\n",
       "       [9.86705303e-01],\n",
       "       [8.91244888e-01],\n",
       "       [9.98061895e-01]], dtype=float32)"
      ]
     },
     "execution_count": 27,
     "metadata": {},
     "output_type": "execute_result"
    }
   ],
   "source": [
    "pred = final_model.predict(X_test, batch_size = 8)\n",
    "pred"
   ]
  },
  {
   "cell_type": "code",
   "execution_count": 28,
   "id": "b8a5f4be",
   "metadata": {
    "execution": {
     "iopub.execute_input": "2023-01-09T17:20:51.898235Z",
     "iopub.status.busy": "2023-01-09T17:20:51.897551Z",
     "iopub.status.idle": "2023-01-09T17:20:51.905833Z",
     "shell.execute_reply": "2023-01-09T17:20:51.904984Z"
    },
    "papermill": {
     "duration": 0.255546,
     "end_time": "2023-01-09T17:20:51.907821",
     "exception": false,
     "start_time": "2023-01-09T17:20:51.652275",
     "status": "completed"
    },
    "tags": []
   },
   "outputs": [
    {
     "data": {
      "text/plain": [
       "array([[0],\n",
       "       [0],\n",
       "       [1],\n",
       "       [0],\n",
       "       [0],\n",
       "       [0],\n",
       "       [1],\n",
       "       [0],\n",
       "       [0],\n",
       "       [1],\n",
       "       [0],\n",
       "       [1],\n",
       "       [1],\n",
       "       [1],\n",
       "       [0],\n",
       "       [0],\n",
       "       [1],\n",
       "       [0],\n",
       "       [1],\n",
       "       [1],\n",
       "       [1],\n",
       "       [1],\n",
       "       [1],\n",
       "       [1],\n",
       "       [1],\n",
       "       [1],\n",
       "       [0],\n",
       "       [1],\n",
       "       [0],\n",
       "       [0],\n",
       "       [1],\n",
       "       [0],\n",
       "       [0],\n",
       "       [1],\n",
       "       [0],\n",
       "       [0],\n",
       "       [0],\n",
       "       [0],\n",
       "       [0],\n",
       "       [0],\n",
       "       [1],\n",
       "       [0],\n",
       "       [1],\n",
       "       [0],\n",
       "       [0],\n",
       "       [1],\n",
       "       [1],\n",
       "       [1],\n",
       "       [0],\n",
       "       [0],\n",
       "       [0],\n",
       "       [0],\n",
       "       [1],\n",
       "       [1],\n",
       "       [1],\n",
       "       [0],\n",
       "       [0],\n",
       "       [0],\n",
       "       [0],\n",
       "       [1],\n",
       "       [1],\n",
       "       [0],\n",
       "       [1],\n",
       "       [1],\n",
       "       [1],\n",
       "       [0],\n",
       "       [1],\n",
       "       [0],\n",
       "       [0],\n",
       "       [1],\n",
       "       [1],\n",
       "       [1],\n",
       "       [1],\n",
       "       [0],\n",
       "       [1],\n",
       "       [1],\n",
       "       [1],\n",
       "       [1],\n",
       "       [1],\n",
       "       [0],\n",
       "       [0],\n",
       "       [1],\n",
       "       [1],\n",
       "       [1],\n",
       "       [0],\n",
       "       [0],\n",
       "       [1],\n",
       "       [1],\n",
       "       [0],\n",
       "       [1],\n",
       "       [0],\n",
       "       [1],\n",
       "       [0],\n",
       "       [1],\n",
       "       [0],\n",
       "       [1],\n",
       "       [1],\n",
       "       [1],\n",
       "       [1],\n",
       "       [0],\n",
       "       [1],\n",
       "       [1],\n",
       "       [1],\n",
       "       [1],\n",
       "       [1],\n",
       "       [1],\n",
       "       [1],\n",
       "       [1],\n",
       "       [1],\n",
       "       [1],\n",
       "       [1],\n",
       "       [1],\n",
       "       [0],\n",
       "       [1],\n",
       "       [1],\n",
       "       [1],\n",
       "       [1],\n",
       "       [1],\n",
       "       [1],\n",
       "       [1],\n",
       "       [1],\n",
       "       [1],\n",
       "       [1],\n",
       "       [1],\n",
       "       [1],\n",
       "       [1],\n",
       "       [1],\n",
       "       [1],\n",
       "       [1],\n",
       "       [1],\n",
       "       [1],\n",
       "       [1],\n",
       "       [1],\n",
       "       [1],\n",
       "       [1],\n",
       "       [0],\n",
       "       [1],\n",
       "       [1],\n",
       "       [1],\n",
       "       [1],\n",
       "       [1],\n",
       "       [1],\n",
       "       [1],\n",
       "       [1],\n",
       "       [1],\n",
       "       [1],\n",
       "       [1],\n",
       "       [1],\n",
       "       [0],\n",
       "       [1],\n",
       "       [1],\n",
       "       [1],\n",
       "       [1],\n",
       "       [1],\n",
       "       [1],\n",
       "       [0],\n",
       "       [1],\n",
       "       [1],\n",
       "       [1],\n",
       "       [1],\n",
       "       [1],\n",
       "       [1],\n",
       "       [1],\n",
       "       [1],\n",
       "       [1],\n",
       "       [1],\n",
       "       [1],\n",
       "       [1],\n",
       "       [1],\n",
       "       [0],\n",
       "       [1],\n",
       "       [0],\n",
       "       [1],\n",
       "       [1],\n",
       "       [0],\n",
       "       [1],\n",
       "       [1],\n",
       "       [1],\n",
       "       [1],\n",
       "       [0],\n",
       "       [1],\n",
       "       [1],\n",
       "       [1],\n",
       "       [1],\n",
       "       [1],\n",
       "       [1],\n",
       "       [1],\n",
       "       [0],\n",
       "       [1],\n",
       "       [0],\n",
       "       [1],\n",
       "       [1],\n",
       "       [1],\n",
       "       [1],\n",
       "       [0],\n",
       "       [1],\n",
       "       [0],\n",
       "       [1],\n",
       "       [1],\n",
       "       [1]])"
      ]
     },
     "execution_count": 28,
     "metadata": {},
     "output_type": "execute_result"
    }
   ],
   "source": [
    "pred_final = np.where(pred>0.5,1,0)\n",
    "pred_final"
   ]
  },
  {
   "cell_type": "code",
   "execution_count": 29,
   "id": "0dc9537e",
   "metadata": {
    "execution": {
     "iopub.execute_input": "2023-01-09T17:20:52.401533Z",
     "iopub.status.busy": "2023-01-09T17:20:52.400769Z",
     "iopub.status.idle": "2023-01-09T17:20:52.524638Z",
     "shell.execute_reply": "2023-01-09T17:20:52.523002Z"
    },
    "papermill": {
     "duration": 0.375784,
     "end_time": "2023-01-09T17:20:52.528990",
     "exception": false,
     "start_time": "2023-01-09T17:20:52.153206",
     "status": "completed"
    },
    "tags": []
   },
   "outputs": [
    {
     "data": {
      "image/png": "[encoded data removed]",
      "text/plain": [
       "<Figure size 576x576 with 1 Axes>"
      ]
     },
     "metadata": {
      "needs_background": "light"
     },
     "output_type": "display_data"
    }
   ],
   "source": [
    "# Get the confusion matrix\n",
    "CM = confusion_matrix(y_test, pred_final)\n",
    "\n",
    "fig, ax = plot_confusion_matrix(conf_mat=CM ,  figsize=(8,8))\n",
    "plt.title('Confusion matrix')\n",
    "plt.xticks(range(2), ['Positive','Negative'], fontsize=10)\n",
    "plt.yticks(range(2), ['Positive','Negative'], fontsize=10)\n",
    "plt.show()"
   ]
  },
  {
   "cell_type": "code",
   "execution_count": 30,
   "id": "e32012b4",
   "metadata": {
    "execution": {
     "iopub.execute_input": "2023-01-09T17:20:53.127495Z",
     "iopub.status.busy": "2023-01-09T17:20:53.126764Z",
     "iopub.status.idle": "2023-01-09T17:20:53.133937Z",
     "shell.execute_reply": "2023-01-09T17:20:53.132869Z"
    },
    "papermill": {
     "duration": 0.322251,
     "end_time": "2023-01-09T17:20:53.136679",
     "exception": false,
     "start_time": "2023-01-09T17:20:52.814428",
     "status": "completed"
    },
    "tags": []
   },
   "outputs": [],
   "source": [
    "def perf_measure(y_test, pred_final):\n",
    "    TP = 0\n",
    "    FP = 0\n",
    "    TN = 0\n",
    "    FN = 0\n",
    "\n",
    "    for i in range(len(pred_final)): \n",
    "        if y_test[i]==pred_final[i]==1:\n",
    "           TP += 1\n",
    "        if y_test[i]==1 and y_test[i]!=pred_final[i]:\n",
    "           FP += 1\n",
    "        if y_test[i]==pred_final[i]==0:\n",
    "           TN += 1\n",
    "        if y_test[i]==0 and y_test[i]!=pred_final[i]:\n",
    "           FN += 1\n",
    "\n",
    "    return(TP, FP, TN, FN)"
   ]
  },
  {
   "cell_type": "code",
   "execution_count": 31,
   "id": "3db23ca8",
   "metadata": {
    "execution": {
     "iopub.execute_input": "2023-01-09T17:20:53.642242Z",
     "iopub.status.busy": "2023-01-09T17:20:53.641595Z",
     "iopub.status.idle": "2023-01-09T17:20:53.654310Z",
     "shell.execute_reply": "2023-01-09T17:20:53.652594Z"
    },
    "papermill": {
     "duration": 0.271314,
     "end_time": "2023-01-09T17:20:53.656889",
     "exception": false,
     "start_time": "2023-01-09T17:20:53.385575",
     "status": "completed"
    },
    "tags": []
   },
   "outputs": [
    {
     "name": "stdout",
     "output_type": "stream",
     "text": [
      "Recall of the model is 0.62\n",
      "Precision of the model is 0.88\n",
      "F-Score is 0.73\n"
     ]
    }
   ],
   "source": [
    "tp, fp, tn ,fn = perf_measure(y_test,pred_final)\n",
    "\n",
    "precision = tp/(tp+fp)\n",
    "recall = tp/(tp+fn)\n",
    "f_score = (2*precision*recall)/(precision+recall)\n",
    "\n",
    "print(\"Recall of the model is {:.2f}\".format(recall))\n",
    "print(\"Precision of the model is {:.2f}\".format(precision))\n",
    "print(\"F-Score is {:.2f}\".format(f_score))"
   ]
  }
 ],
 "metadata": {
  "kernelspec": {
   "display_name": "Python 3",
   "language": "python",
   "name": "python3"
  },
  "language_info": {
   "codemirror_mode": {
    "name": "ipython",
    "version": 3
   },
   "file_extension": ".py",
   "mimetype": "text/x-python",
   "name": "python",
   "nbconvert_exporter": "python",
   "pygments_lexer": "ipython3",
   "version": "3.7.12"
  },
  "papermill": {
   "default_parameters": {},
   "duration": 3542.489621,
   "end_time": "2023-01-09T17:20:56.839407",
   "environment_variables": {},
   "exception": null,
   "input_path": "__notebook__.ipynb",
   "output_path": "__notebook__.ipynb",
   "parameters": {},
   "start_time": "2023-01-09T16:21:54.349786",
   "version": "2.3.4"
  }
 },
 "nbformat": 4,
 "nbformat_minor": 5
}
